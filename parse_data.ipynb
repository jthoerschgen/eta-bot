{
 "cells": [
  {
   "cell_type": "markdown",
   "metadata": {},
   "source": [
    "## Parse GroupMe message jsons"
   ]
  },
  {
   "cell_type": "markdown",
   "metadata": {},
   "source": [
    "#### Imports"
   ]
  },
  {
   "cell_type": "code",
   "execution_count": 1,
   "metadata": {},
   "outputs": [],
   "source": [
    "from datetime import date\n",
    "import json\n",
    "from pathlib import Path\n",
    "import random\n",
    "import re\n",
    "from tqdm import tqdm\n",
    "import unicodedata"
   ]
  },
  {
   "cell_type": "markdown",
   "metadata": {},
   "source": [
    "#### Constants"
   ]
  },
  {
   "cell_type": "code",
   "execution_count": 2,
   "metadata": {},
   "outputs": [],
   "source": [
    "training_data_path: Path = Path(f\"Data/TrainingData/training-data-{date.today()}.txt\")\n",
    "data_dir: Path = Path(\"Data/4-27-23 Data\")"
   ]
  },
  {
   "cell_type": "code",
   "execution_count": 3,
   "metadata": {},
   "outputs": [],
   "source": [
    "file_paths: list[Path] = [file for file in data_dir.iterdir()]"
   ]
  },
  {
   "cell_type": "markdown",
   "metadata": {},
   "source": [
    "#### Functions"
   ]
  },
  {
   "cell_type": "code",
   "execution_count": 10,
   "metadata": {},
   "outputs": [],
   "source": [
    "def parse_convo(input_path: Path, output_path: Path) -> None:\n",
    "    \"\"\"Parse a GroupMe message.json file and write the text to a \n",
    "    given output folder\n",
    "\n",
    "    Args:\n",
    "        input_path (Path): Path for input data\n",
    "        output_path (Path): Path for where output file will go\n",
    "\n",
    "    Returns:\n",
    "        None: Returns None\n",
    "    \"\"\"\n",
    "    with open(input_path, \"r\", encoding=\"utf-8-sig\") as data_file:\n",
    "        data = data_file.read()\n",
    "    data_json = json.loads(data)\n",
    "\n",
    "    phone_number_re: re.Pattern[str] = re.compile(\n",
    "        r\"(\\+\\d{1,3}\\s?)?((\\(\\d{3}\\)\\s?)|(\\d{3})(\\s|-?))(\\d{3}(\\s|-?))(\\d{4})(\\s?(([E|e]xt[:|.|]?)|x|X)(\\s?\\d+))?\"\n",
    "    )  # Match phone numbers to remove them from output\n",
    "\n",
    "    url_re: re.Pattern[str] = re.compile(r\"http\\S+\")\n",
    "    # Match urls to remove them from output\n",
    "\n",
    "    with open(output_path, \"a\") as output_file:\n",
    "        for message in data_json:\n",
    "            msg_txt: str = message[\"text\"]\n",
    "            if not message[\"text\"]:\n",
    "                # skip empty messages\n",
    "                continue\n",
    "            if message[\"name\"] == \"GroupMe\" or message[\"sender_id\"] == \"system\":\n",
    "                # skip system messages\n",
    "                continue\n",
    "\n",
    "            # replace unicode apostrophe with ascii apostrophe\n",
    "            msg_txt = msg_txt.replace(\"\\u2019\", \"'\")\n",
    "\n",
    "            # remove unicode characters\n",
    "            msg_txt = (\n",
    "                unicodedata.normalize(\"NFKD\", msg_txt).encode(\"ascii\", \"ignore\")\n",
    "            ).decode()\n",
    "\n",
    "            # remove urls and phone numbers\n",
    "            msg_txt = re.sub(url_re, \"\", msg_txt)\n",
    "            msg_txt = re.sub(phone_number_re, \"\", msg_txt)\n",
    "\n",
    "            # make double new line only one line\n",
    "            msg_txt = msg_txt.replace(\"\\n\\n\", \"\\n\")\n",
    "\n",
    "            # remove whitespace on edges\n",
    "            msg_txt = msg_txt.strip()\n",
    "\n",
    "            if len(msg_txt) == 0 or not msg_txt:\n",
    "                # if after cleaning, message is empty, skip it\n",
    "                continue\n",
    "\n",
    "            # write to output file\n",
    "            # output_file.write(json.dumps(message, indent=2))\n",
    "            # output_file.write(\"\\n\")\n",
    "            if msg_txt.endswith(\"\\n\"):\n",
    "                output_file.write(msg_txt)\n",
    "            else:\n",
    "                output_file.write(msg_txt + \"\\n\")\n",
    "            # output_file.write(\"\\n\" + \"~\" * 15 + \"\\n\")\n",
    "    return None"
   ]
  },
  {
   "cell_type": "code",
   "execution_count": 5,
   "metadata": {},
   "outputs": [],
   "source": [
    "def shuffle_training_data(training_data_path: Path) -> None:\n",
    "    \"\"\"Shuffles training data\n",
    "\n",
    "    Args:\n",
    "        training_data_path (Path): Path of training data text file\n",
    "\n",
    "    Returns:\n",
    "        None: Returns None\n",
    "    \"\"\"\n",
    "    with open(training_data_path, \"r\") as training_data_file:\n",
    "        text_lines: list[str] = [(random.random(), line) for line in training_data_file]\n",
    "\n",
    "    text_lines.sort()\n",
    "\n",
    "    with open(training_data_path, \"w\") as training_data_file:\n",
    "        for _, line in text_lines:\n",
    "            training_data_file.write(line)\n",
    "\n",
    "    return None"
   ]
  },
  {
   "cell_type": "markdown",
   "metadata": {},
   "source": [
    "#### Delete content in training data file"
   ]
  },
  {
   "cell_type": "code",
   "execution_count": 11,
   "metadata": {},
   "outputs": [],
   "source": [
    "with open(training_data_path,'w') as file:\n",
    "    pass"
   ]
  },
  {
   "cell_type": "markdown",
   "metadata": {},
   "source": [
    "#### Parse GroupMe message json"
   ]
  },
  {
   "cell_type": "code",
   "execution_count": 12,
   "metadata": {},
   "outputs": [],
   "source": [
    "for file_path in tqdm(file_paths, desc=\"Parsing Files\", disable=True):\n",
    "    parse_convo(input_path=file_path/\"message.json\", output_path=training_data_path)"
   ]
  },
  {
   "cell_type": "markdown",
   "metadata": {},
   "source": [
    "#### Shuffle Training Data"
   ]
  },
  {
   "cell_type": "code",
   "execution_count": 9,
   "metadata": {},
   "outputs": [],
   "source": [
    "shuffle_training_data(training_data_path=training_data_path)"
   ]
  }
 ],
 "metadata": {
  "kernelspec": {
   "display_name": "eta-bot",
   "language": "python",
   "name": "python3"
  },
  "language_info": {
   "codemirror_mode": {
    "name": "ipython",
    "version": 3
   },
   "file_extension": ".py",
   "mimetype": "text/x-python",
   "name": "python",
   "nbconvert_exporter": "python",
   "pygments_lexer": "ipython3",
   "version": "3.10.10"
  },
  "orig_nbformat": 4
 },
 "nbformat": 4,
 "nbformat_minor": 2
}
